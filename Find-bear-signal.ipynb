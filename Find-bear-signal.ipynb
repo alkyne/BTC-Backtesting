{
 "cells": [
  {
   "cell_type": "markdown",
   "metadata": {},
   "source": [
    "# Find bear market start signal\n",
    "- 비트 현물 홀딩시\n",
    "- 언제 하락장의 시작인지 찾는다\n",
    "- 일봉 기준, 어떤 MA를 터치할 때 파는 것이 수익률 가장 좋은지"
   ]
  },
  {
   "cell_type": "code",
   "execution_count": 154,
   "metadata": {},
   "outputs": [],
   "source": [
    "import pandas as pd\n",
    "import numpy as np\n",
    "import matplotlib.pyplot as plt"
   ]
  },
  {
   "cell_type": "code",
   "execution_count": 155,
   "metadata": {},
   "outputs": [],
   "source": [
    "interval = '1d'\n",
    "btc_data = pd.read_csv(f'data/btc_{interval}_data_with_ma.csv', index_col=False)\n",
    "btc_data['timestamp'] = pd.to_datetime(btc_data['timestamp'])"
   ]
  },
  {
   "cell_type": "code",
   "execution_count": 156,
   "metadata": {},
   "outputs": [],
   "source": [
    "ma_candidates = [x for x in range(40, 210, 10)]"
   ]
  },
  {
   "cell_type": "code",
   "execution_count": 157,
   "metadata": {},
   "outputs": [],
   "source": [
    "# scenario 1: bull and bear\n",
    "# bull_bear_market_df = btc_data[(btc_data['timestamp'] >= '2020-03-11') & (btc_data['timestamp'] <= '2021-07-20')]\n",
    "bull_bear_market_df = btc_data[(btc_data['timestamp'] >= '2020-10-10') & (btc_data['timestamp'] <= '2021-07-20')]\n",
    "\n",
    "# scenario 2: bear only\n",
    "bear_market_df = btc_data[(btc_data['timestamp'] >= '2021-11-10') & (btc_data['timestamp'] <= '2023-01-05')]"
   ]
  },
  {
   "cell_type": "code",
   "execution_count": 158,
   "metadata": {},
   "outputs": [],
   "source": [
    "# Function to calculate final value of holding BTC\n",
    "def calculate_holding_value(df):\n",
    "    initial_cash = 10000  # Start with $10,000 in cash\n",
    "\n",
    "    # Buy BTC at the first available price\n",
    "    initial_price = df['close'].iloc[0]\n",
    "    btc_holding = initial_cash / initial_price  # Buy BTC with all available cash\n",
    "\n",
    "    # Sell BTC at the last available price\n",
    "    final_price = df['close'].iloc[-1]\n",
    "    final_value = btc_holding * final_price  # Calculate the value of the BTC holding\n",
    "\n",
    "    # print(f\"Initial BTC price: {initial_price:.2f} USDT\")\n",
    "    # print(f\"Final BTC price: {final_price:.2f} USDT\")\n",
    "    # print(f\"Final value of holding BTC: {final_value:,.2f} USDT\")\n",
    "    \n",
    "    return final_value"
   ]
  },
  {
   "cell_type": "markdown",
   "metadata": {},
   "source": [
    "# Scenario 1: Bull and Bear market"
   ]
  },
  {
   "cell_type": "code",
   "execution_count": 159,
   "metadata": {},
   "outputs": [
    {
     "name": "stdout",
     "output_type": "stream",
     "text": [
      "Just holding BTC: 26,378.97\n"
     ]
    }
   ],
   "source": [
    "baseline_value = calculate_holding_value(bull_bear_market_df)\n",
    "print(f\"Just holding BTC: {baseline_value:,.2f}\")"
   ]
  },
  {
   "cell_type": "code",
   "execution_count": 160,
   "metadata": {},
   "outputs": [],
   "source": [
    "# Updated Backtest Function with RSI logic\n",
    "def backtest_and_calculate_profit(_df, ma):\n",
    "    df = _df.copy(deep=True)\n",
    "\n",
    "    df['Position'] = np.where(df['close'] > df[f'MA_{ma}'], 1, 0)  # 1 for buy, 0 for sell\n",
    "    df['Signal'] = df['Position'].diff()  # Buy signal when diff > 0, sell signal when diff < 0\n",
    "\n",
    "    # Initial values\n",
    "    initial_cash = 10000  # Starting with $10,000\n",
    "    btc_holding = 0\n",
    "    cash = initial_cash\n",
    "    purchase_price = 0\n",
    "    portfolio_value = 0\n",
    "\n",
    "    # baseline: Just holding BTC\n",
    "    base_price = df['close'].iloc[0]\n",
    "    final_price = df['close'].iloc[-1]\n",
    "    base_portfolio_value = ((final_price - base_price) / base_price + 1) * initial_cash\n",
    "    print(f\"Base portfilio value: {base_portfolio_value:,.2f} USDT\")\n",
    "\n",
    "    # Buy at start !!\n",
    "    purchase_price = df['close'].iloc[0]\n",
    "    btc_holding = cash / purchase_price  # Buy BTC with all available cash\n",
    "    cash = 0  # No cash left after buying\n",
    "    current_time = df['timestamp'].iloc[0]\n",
    "    # print(f\"{current_time}: Bought BTC at {purchase_price:,.2f}, holding {btc_holding:.4f} BTC\")\n",
    "\n",
    "    chance = 0\n",
    "\n",
    "    for i in range(0, len(df)):\n",
    "        price = df['close'].iloc[i]\n",
    "\n",
    "        # 가격이 특정 MA 아래로 가면 선제적 매도\n",
    "        # if price < df[f'MA_{ma}'].iloc[i]:\n",
    "        if df['Signal'].iloc[i] == -1:\n",
    "            if btc_holding > 0:\n",
    "                if chance > 0: # 한번 빠진건 봐준다\n",
    "                    chance -= 1\n",
    "                    continue\n",
    "                sell_price = price\n",
    "                cash = btc_holding * sell_price  # Sell all BTC and hold cash\n",
    "                btc_holding = 0  # No BTC left after selling\n",
    "                current_time = df['timestamp'].iloc[i]\n",
    "                print(f\"{current_time}: [MA Crossed]: {ma}MA Sold BTC at {sell_price:,.2f}, now holding {cash:,.2f} USDT\\n\")\n",
    "                break\n",
    "\n",
    "        # Calculate current portfolio value (cash + value of BTC)\n",
    "        # portfolio_value = cash + (btc_holding * price)\n",
    "        # Update the portfolio value for each iteration\n",
    "        # df.loc[i, 'portfolio_value'] = portfolio_value\n",
    "\n",
    "    # Drop 'Signal' and 'Position' columns\n",
    "    # df = df.drop(columns=['Signal', 'Position'])\n",
    "    return cash"
   ]
  },
  {
   "cell_type": "code",
   "execution_count": 161,
   "metadata": {},
   "outputs": [
    {
     "name": "stdout",
     "output_type": "stream",
     "text": [
      "Base portfilio value: 26,378.97 USDT\n",
      "2021-01-27 00:00:00: [MA Crossed]: 40MA Sold BTC at 30,366.15, now holding 26,888.83 USDT\n",
      "\n",
      "Base portfilio value: 26,378.97 USDT\n",
      "2021-04-18 00:00:00: [MA Crossed]: 50MA Sold BTC at 56,150.01, now holding 49,720.11 USDT\n",
      "\n",
      "Base portfilio value: 26,378.97 USDT\n",
      "2021-04-21 00:00:00: [MA Crossed]: 60MA Sold BTC at 53,787.63, now holding 47,628.25 USDT\n",
      "\n",
      "Base portfilio value: 26,378.97 USDT\n",
      "2021-04-21 00:00:00: [MA Crossed]: 70MA Sold BTC at 53,787.63, now holding 47,628.25 USDT\n",
      "\n",
      "Base portfilio value: 26,378.97 USDT\n",
      "2021-04-22 00:00:00: [MA Crossed]: 80MA Sold BTC at 51,690.96, now holding 45,771.68 USDT\n",
      "\n",
      "Base portfilio value: 26,378.97 USDT\n",
      "2021-04-24 00:00:00: [MA Crossed]: 90MA Sold BTC at 50,047.84, now holding 44,316.71 USDT\n",
      "\n",
      "Base portfilio value: 26,378.97 USDT\n",
      "2021-04-25 00:00:00: [MA Crossed]: 100MA Sold BTC at 49,066.77, now holding 43,447.99 USDT\n",
      "\n",
      "Base portfilio value: 26,378.97 USDT\n",
      "2021-05-12 00:00:00: [MA Crossed]: 110MA Sold BTC at 49,631.32, now holding 43,947.89 USDT\n",
      "\n",
      "Base portfilio value: 26,378.97 USDT\n",
      "2021-05-12 00:00:00: [MA Crossed]: 120MA Sold BTC at 49,631.32, now holding 43,947.89 USDT\n",
      "\n",
      "Base portfilio value: 26,378.97 USDT\n",
      "2021-05-15 00:00:00: [MA Crossed]: 130MA Sold BTC at 46,762.99, now holding 41,408.02 USDT\n",
      "\n",
      "Base portfilio value: 26,378.97 USDT\n",
      "2021-05-15 00:00:00: [MA Crossed]: 140MA Sold BTC at 46,762.99, now holding 41,408.02 USDT\n",
      "\n",
      "Base portfilio value: 26,378.97 USDT\n",
      "2021-05-16 00:00:00: [MA Crossed]: 150MA Sold BTC at 46,431.50, now holding 41,114.49 USDT\n",
      "\n",
      "Base portfilio value: 26,378.97 USDT\n",
      "2021-05-17 00:00:00: [MA Crossed]: 160MA Sold BTC at 43,538.04, now holding 38,552.37 USDT\n",
      "\n",
      "Base portfilio value: 26,378.97 USDT\n",
      "2021-05-17 00:00:00: [MA Crossed]: 170MA Sold BTC at 43,538.04, now holding 38,552.37 USDT\n",
      "\n",
      "Base portfilio value: 26,378.97 USDT\n",
      "2021-05-19 00:00:00: [MA Crossed]: 180MA Sold BTC at 36,690.09, now holding 32,488.60 USDT\n",
      "\n",
      "Base portfilio value: 26,378.97 USDT\n",
      "2021-05-19 00:00:00: [MA Crossed]: 190MA Sold BTC at 36,690.09, now holding 32,488.60 USDT\n",
      "\n",
      "Base portfilio value: 26,378.97 USDT\n",
      "2021-05-19 00:00:00: [MA Crossed]: 200MA Sold BTC at 36,690.09, now holding 32,488.60 USDT\n",
      "\n"
     ]
    }
   ],
   "source": [
    "portfolio_value_by_ma = {}\n",
    "\n",
    "for ma in ma_candidates:\n",
    "    portfolio_value = backtest_and_calculate_profit(bull_bear_market_df, ma)\n",
    "    portfolio_value_by_ma[ma] = portfolio_value"
   ]
  },
  {
   "cell_type": "code",
   "execution_count": 162,
   "metadata": {},
   "outputs": [
    {
     "name": "stdout",
     "output_type": "stream",
     "text": [
      "Just holding BTC baseline: 26,378.97\n",
      "Final value for ma 40: 26,888.83 USDT\n",
      "Final value for ma 50: 49,720.11 USDT\n",
      "Final value for ma 60: 47,628.25 USDT\n",
      "Final value for ma 70: 47,628.25 USDT\n",
      "Final value for ma 80: 45,771.68 USDT\n",
      "Final value for ma 90: 44,316.71 USDT\n",
      "Final value for ma 100: 43,447.99 USDT\n",
      "Final value for ma 110: 43,947.89 USDT\n",
      "Final value for ma 120: 43,947.89 USDT\n",
      "Final value for ma 130: 41,408.02 USDT\n",
      "Final value for ma 140: 41,408.02 USDT\n",
      "Final value for ma 150: 41,114.49 USDT\n",
      "Final value for ma 160: 38,552.37 USDT\n",
      "Final value for ma 170: 38,552.37 USDT\n",
      "Final value for ma 180: 32,488.60 USDT\n",
      "Final value for ma 190: 32,488.60 USDT\n",
      "Final value for ma 200: 32,488.60 USDT\n",
      "The best performing strategy for selling all BTC below 50MA resulted in a final portfolio value of 49,720.11 USDT\n"
     ]
    }
   ],
   "source": [
    "print (f\"Just holding BTC baseline: {baseline_value:,.2f}\")\n",
    "for ma, value in portfolio_value_by_ma.items():\n",
    "    print(f\"Final value for ma {ma}: {value:,.2f} USDT\") \n",
    "\n",
    "# Find the MA with the highest portfolio value\n",
    "best_ma = max(portfolio_value_by_ma, key=portfolio_value_by_ma.get)\n",
    "best_value = portfolio_value_by_ma[best_ma]\n",
    "\n",
    "print(f\"The best performing strategy for selling all BTC below {best_ma}MA resulted in a final portfolio value of {best_value:,.2f} USDT\")"
   ]
  },
  {
   "cell_type": "markdown",
   "metadata": {},
   "source": [
    "## Scenario 2: Bear market only"
   ]
  },
  {
   "cell_type": "code",
   "execution_count": 163,
   "metadata": {},
   "outputs": [
    {
     "name": "stdout",
     "output_type": "stream",
     "text": [
      "Just holding BTC: 2,594.21\n"
     ]
    }
   ],
   "source": [
    "baseline_value = calculate_holding_value(bear_market_df)\n",
    "print(f\"Just holding BTC: {baseline_value:,.2f}\")"
   ]
  },
  {
   "cell_type": "code",
   "execution_count": 164,
   "metadata": {},
   "outputs": [
    {
     "name": "stdout",
     "output_type": "stream",
     "text": [
      "Base portfilio value: 2,594.21 USDT\n",
      "2021-11-16 00:00:00: [MA Crossed]: 40MA Sold BTC at 60,058.87, now holding 9,256.57 USDT\n",
      "\n",
      "Base portfilio value: 2,594.21 USDT\n",
      "2021-11-18 00:00:00: [MA Crossed]: 50MA Sold BTC at 56,891.62, now holding 8,768.42 USDT\n",
      "\n",
      "Base portfilio value: 2,594.21 USDT\n",
      "2021-11-22 00:00:00: [MA Crossed]: 60MA Sold BTC at 56,247.18, now holding 8,669.09 USDT\n",
      "\n",
      "Base portfilio value: 2,594.21 USDT\n",
      "2021-11-26 00:00:00: [MA Crossed]: 70MA Sold BTC at 53,726.53, now holding 8,280.60 USDT\n",
      "\n",
      "Base portfilio value: 2,594.21 USDT\n",
      "2021-11-26 00:00:00: [MA Crossed]: 80MA Sold BTC at 53,726.53, now holding 8,280.60 USDT\n",
      "\n",
      "Base portfilio value: 2,594.21 USDT\n",
      "2021-11-26 00:00:00: [MA Crossed]: 90MA Sold BTC at 53,726.53, now holding 8,280.60 USDT\n",
      "\n",
      "Base portfilio value: 2,594.21 USDT\n",
      "2021-11-26 00:00:00: [MA Crossed]: 100MA Sold BTC at 53,726.53, now holding 8,280.60 USDT\n",
      "\n",
      "Base portfilio value: 2,594.21 USDT\n",
      "2021-12-03 00:00:00: [MA Crossed]: 110MA Sold BTC at 53,601.05, now holding 8,261.26 USDT\n",
      "\n",
      "Base portfilio value: 2,594.21 USDT\n",
      "2021-12-04 00:00:00: [MA Crossed]: 120MA Sold BTC at 49,152.47, now holding 7,575.62 USDT\n",
      "\n",
      "Base portfilio value: 2,594.21 USDT\n",
      "2021-12-04 00:00:00: [MA Crossed]: 130MA Sold BTC at 49,152.47, now holding 7,575.62 USDT\n",
      "\n",
      "Base portfilio value: 2,594.21 USDT\n",
      "2021-12-04 00:00:00: [MA Crossed]: 140MA Sold BTC at 49,152.47, now holding 7,575.62 USDT\n",
      "\n",
      "Base portfilio value: 2,594.21 USDT\n",
      "2021-12-04 00:00:00: [MA Crossed]: 150MA Sold BTC at 49,152.47, now holding 7,575.62 USDT\n",
      "\n",
      "Base portfilio value: 2,594.21 USDT\n",
      "2021-12-09 00:00:00: [MA Crossed]: 160MA Sold BTC at 47,545.59, now holding 7,327.96 USDT\n",
      "\n",
      "Base portfilio value: 2,594.21 USDT\n",
      "2021-12-09 00:00:00: [MA Crossed]: 170MA Sold BTC at 47,545.59, now holding 7,327.96 USDT\n",
      "\n",
      "Base portfilio value: 2,594.21 USDT\n",
      "2021-12-09 00:00:00: [MA Crossed]: 180MA Sold BTC at 47,545.59, now holding 7,327.96 USDT\n",
      "\n",
      "Base portfilio value: 2,594.21 USDT\n",
      "2021-12-13 00:00:00: [MA Crossed]: 190MA Sold BTC at 46,702.75, now holding 7,198.06 USDT\n",
      "\n",
      "Base portfilio value: 2,594.21 USDT\n",
      "2021-12-13 00:00:00: [MA Crossed]: 200MA Sold BTC at 46,702.75, now holding 7,198.06 USDT\n",
      "\n"
     ]
    }
   ],
   "source": [
    "portfolio_value_by_ma = {}\n",
    "\n",
    "for ma in ma_candidates:\n",
    "    portfolio_value = backtest_and_calculate_profit(bear_market_df, ma)\n",
    "    portfolio_value_by_ma[ma] = portfolio_value"
   ]
  },
  {
   "cell_type": "code",
   "execution_count": 165,
   "metadata": {},
   "outputs": [
    {
     "name": "stdout",
     "output_type": "stream",
     "text": [
      "Just holding BTC baseline: 2,594.21\n",
      "Final value for ma 40: 9,256.57 USDT\n",
      "Final value for ma 50: 8,768.42 USDT\n",
      "Final value for ma 60: 8,669.09 USDT\n",
      "Final value for ma 70: 8,280.60 USDT\n",
      "Final value for ma 80: 8,280.60 USDT\n",
      "Final value for ma 90: 8,280.60 USDT\n",
      "Final value for ma 100: 8,280.60 USDT\n",
      "Final value for ma 110: 8,261.26 USDT\n",
      "Final value for ma 120: 7,575.62 USDT\n",
      "Final value for ma 130: 7,575.62 USDT\n",
      "Final value for ma 140: 7,575.62 USDT\n",
      "Final value for ma 150: 7,575.62 USDT\n",
      "Final value for ma 160: 7,327.96 USDT\n",
      "Final value for ma 170: 7,327.96 USDT\n",
      "Final value for ma 180: 7,327.96 USDT\n",
      "Final value for ma 190: 7,198.06 USDT\n",
      "Final value for ma 200: 7,198.06 USDT\n",
      "The best performing strategy for selling all BTC below 40 resulted in a final portfolio value of 9,256.57 USDT\n"
     ]
    }
   ],
   "source": [
    "print (f\"Just holding BTC baseline: {baseline_value:,.2f}\")\n",
    "for ma, value in portfolio_value_by_ma.items():\n",
    "    print(f\"Final value for ma {ma}: {value:,.2f} USDT\") \n",
    "\n",
    "# Find the MA with the highest portfolio value\n",
    "best_ma = max(portfolio_value_by_ma, key=portfolio_value_by_ma.get)\n",
    "best_value = portfolio_value_by_ma[best_ma]\n",
    "\n",
    "print(f\"The best performing strategy for selling all BTC below {best_ma} resulted in a final portfolio value of {best_value:,.2f} USDT\")"
   ]
  }
 ],
 "metadata": {
  "kernelspec": {
   "display_name": "Python 3",
   "language": "python",
   "name": "python3"
  },
  "language_info": {
   "codemirror_mode": {
    "name": "ipython",
    "version": 3
   },
   "file_extension": ".py",
   "mimetype": "text/x-python",
   "name": "python",
   "nbconvert_exporter": "python",
   "pygments_lexer": "ipython3",
   "version": "3.12.5"
  }
 },
 "nbformat": 4,
 "nbformat_minor": 2
}
