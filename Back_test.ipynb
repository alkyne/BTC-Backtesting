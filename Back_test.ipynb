{
 "cells": [
  {
   "cell_type": "code",
   "execution_count": 38,
   "metadata": {},
   "outputs": [],
   "source": [
    "import pandas as pd\n",
    "import numpy as np\n",
    "import matplotlib.pyplot as plt\n"
   ]
  },
  {
   "cell_type": "code",
   "execution_count": 116,
   "metadata": {},
   "outputs": [],
   "source": [
    "btc_data = pd.read_csv('btc_1h_data_with_ma.csv', index_col=False)"
   ]
  },
  {
   "cell_type": "code",
   "execution_count": 97,
   "metadata": {},
   "outputs": [],
   "source": [
    "ma_candidates = [10, 20, 30, 50, 60, 90, 100, 110, 120, 130, 140, 150, 160, 170, 180, 200]"
   ]
  },
  {
   "cell_type": "code",
   "execution_count": 98,
   "metadata": {},
   "outputs": [],
   "source": [
    "# Function to backtest strategy and calculate cumulative profit\n",
    "def backtest_and_calculate_profit(df, ma):\n",
    "    df['Position'] = np.where(df['close'] > df[f'MA_{ma}'], 1, 0)  # 1 for buy, 0 for sell\n",
    "    df['Signal'] = df['Position'].diff()  # Buy signal when diff > 0, sell signal when diff < 0\n",
    "\n",
    "    # Initial values\n",
    "    initial_cash = 10000  # Starting with $10,000\n",
    "    btc_holding = 0\n",
    "    cash = initial_cash\n",
    "    purchase_price = 0\n",
    "    stop_loss = 0 # No stop loss    \n",
    "    \n",
    "    # stop_loss = 0.995 # 0.5% loss\n",
    "    stop_loss = 0.99 # 1% loss\n",
    "    # stop_loss = 0.98 # 2% loss\n",
    "    # stop_loss = 0.97 # 3% loss\n",
    "\n",
    "    for i in range(0, len(df)):\n",
    "        price = df['close'].iloc[i]\n",
    "        # Stop loss check: Sell if the price drops more than 1% below the purchase price\n",
    "        if btc_holding > 0 and price < purchase_price * stop_loss:\n",
    "            cash = btc_holding * price  # Sell all BTC and hold cash\n",
    "            btc_holding = 0  # No BTC left after selling\n",
    "            current_time = df['timestamp'].iloc[i]\n",
    "            print(f\"{current_time}: Stop loss triggered! Sold BTC at {price:.2f}, now holding {cash:.2f} USDT\")\n",
    "\n",
    "        else:\n",
    "            # Buy signal\n",
    "            if df['Signal'].iloc[i] == 1:  # Crosses above MA\n",
    "                if cash > 0:\n",
    "                    btc_holding = cash / price  # Buy BTC with all available cash\n",
    "                    cash = 0  # No cash left after buying\n",
    "                    purchase_price = price\n",
    "                    current_time = df['timestamp'].iloc[i]\n",
    "                    print(f\"{current_time}: Bought BTC at {price:.2f}, holding {btc_holding:.4f} BTC\")\n",
    "\n",
    "\n",
    "            # Sell signal\n",
    "            elif df['Signal'].iloc[i] == -1:  # Crosses below MA\n",
    "                if btc_holding > 0:\n",
    "                    cash = btc_holding * price  # Sell all BTC and hold cash\n",
    "                    btc_holding = 0  # No BTC left after selling\n",
    "                    current_time = df['timestamp'].iloc[i]\n",
    "                    print(f\"{current_time}: Sold BTC at {price:.2f}, now holding {cash:.2f} USDT\\n\")\n",
    "        \n",
    "        # Calculate current portfolio value (cash + value of BTC)\n",
    "        portfolio_value = cash + (btc_holding * price)\n",
    "        # Update the portfolio value for each iteration\n",
    "        df.loc[i, 'portfolio_value'] = portfolio_value\n",
    "\n",
    "    # Drop 'Signal' and 'Position' columns\n",
    "    df = df.drop(columns=['Signal', 'Position'])\n",
    "\n",
    "    # df['portfolio_value'] = portfolio_value\n",
    "    print(f\"Final value for MA {ma}: {portfolio_value:,.2f} USDT\")\n",
    "    return df"
   ]
  },
  {
   "cell_type": "code",
   "execution_count": 117,
   "metadata": {},
   "outputs": [],
   "source": [
    "# Filter btc_data for the year 2018 and 2022\n",
    "btc_data = btc_data[pd.to_datetime(btc_data['timestamp']).dt.year.isin([2018, 2022])]\n",
    "btc_data = btc_data.drop(btc_data[~pd.to_datetime(btc_data['timestamp']).dt.year.isin([2018, 2022])].index)\n",
    "btc_data = btc_data.reset_index(drop=True)"
   ]
  },
  {
   "cell_type": "code",
   "execution_count": null,
   "metadata": {},
   "outputs": [],
   "source": [
    "btc_data.tail()"
   ]
  },
  {
   "cell_type": "code",
   "execution_count": null,
   "metadata": {},
   "outputs": [],
   "source": [
    "profit_df = backtest_and_calculate_profit(btc_data, 100)\n",
    "# print(profit_df['Cumulative Profit'])"
   ]
  },
  {
   "cell_type": "markdown",
   "metadata": {},
   "source": [
    "## Test all ma candidates"
   ]
  },
  {
   "cell_type": "code",
   "execution_count": 119,
   "metadata": {},
   "outputs": [],
   "source": [
    "portfolio_value_by_ma = {}"
   ]
  },
  {
   "cell_type": "code",
   "execution_count": null,
   "metadata": {},
   "outputs": [],
   "source": [
    "for ma in ma_candidates:\n",
    "    profit = backtest_and_calculate_profit(btc_data, ma)\n",
    "    portfolio_value_by_ma[ma] = profit['portfolio_value'].iloc[-1]"
   ]
  },
  {
   "cell_type": "code",
   "execution_count": null,
   "metadata": {},
   "outputs": [],
   "source": [
    "for ma, value in portfolio_value_by_ma.items():\n",
    "    print(f\"Final value for MA {ma}: {value:,.2f} USDT\") "
   ]
  },
  {
   "cell_type": "code",
   "execution_count": null,
   "metadata": {},
   "outputs": [],
   "source": [
    "# Find the MA with the highest portfolio value\n",
    "best_ma = max(portfolio_value_by_ma, key=portfolio_value_by_ma.get)\n",
    "best_value = portfolio_value_by_ma[best_ma]\n",
    "\n",
    "print(f\"The best performing MA is {best_ma} with a final portfolio value of {best_value:,.2f} USDT\")\n"
   ]
  },
  {
   "cell_type": "code",
   "execution_count": null,
   "metadata": {},
   "outputs": [],
   "source": [
    "# Sort the dictionary by MA values\n",
    "sorted_portfolio_value = dict(sorted(portfolio_value_by_ma.items()))\n",
    "\n",
    "# Extract MA values and corresponding portfolio values\n",
    "ma_values = list(sorted_portfolio_value.keys())\n",
    "portfolio_values = list(sorted_portfolio_value.values())\n",
    "\n",
    "# Create the plot\n",
    "plt.figure(figsize=(12, 6))\n",
    "plt.plot(ma_values, portfolio_values, marker='o')\n",
    "\n",
    "# Customize the plot\n",
    "plt.title('Portfolio Value by Moving Average Period', fontsize=16)\n",
    "plt.xlabel('MA', fontsize=12)\n",
    "plt.ylabel('Final Portfolio Value (USDT)', fontsize=12)\n",
    "plt.grid(True, linestyle='--', alpha=0.5)\n",
    "\n",
    "# Add value labels on top of each point\n",
    "for i, value in enumerate(portfolio_values):\n",
    "    plt.text(ma_values[i], value, f'{value:,.0f}', ha='center', va='bottom')\n",
    "\n",
    "# Add x-axis labels for each MA value\n",
    "plt.xticks(ma_values, [f'{ma}' for ma in ma_values], rotation=0, ha='right')\n",
    "\n",
    "# Adjust the bottom margin to accommodate the labels\n",
    "plt.subplots_adjust(bottom=0.2)\n",
    "\n",
    "# Add a horizontal line at 145,580.15\n",
    "plt.axhline(y=145580.15, color='red', linestyle='--', label='Hold BTC Value')\n",
    "plt.legend()\n",
    "\n",
    "# Adjust y-axis to start from 0\n",
    "plt.ylim(bottom=0)\n",
    "\n",
    "# Show the plot\n",
    "plt.tight_layout()\n",
    "plt.show()\n"
   ]
  },
  {
   "cell_type": "markdown",
   "metadata": {},
   "source": [
    "## Just holding BTC\n"
   ]
  },
  {
   "cell_type": "code",
   "execution_count": 57,
   "metadata": {},
   "outputs": [],
   "source": [
    "# Function to calculate final value of holding BTC\n",
    "def calculate_holding_value(df):\n",
    "    initial_cash = 10000  # Start with $10,000 in cash\n",
    "\n",
    "    # Buy BTC at the first available price\n",
    "    initial_price = df['close'].iloc[0]\n",
    "    btc_holding = initial_cash / initial_price  # Buy BTC with all available cash\n",
    "\n",
    "    # Sell BTC at the last available price\n",
    "    final_price = df['close'].iloc[-1]\n",
    "    final_value = btc_holding * final_price  # Calculate the value of the BTC holding\n",
    "\n",
    "    print(f\"Initial BTC price: {initial_price:.2f} USDT\")\n",
    "    print(f\"Final BTC price: {final_price:.2f} USDT\")\n",
    "    print(f\"Final value of holding BTC: {final_value:,.2f} USDT\")\n",
    "    \n",
    "    return final_value"
   ]
  },
  {
   "cell_type": "code",
   "execution_count": null,
   "metadata": {},
   "outputs": [],
   "source": [
    "\n",
    "# Example usage\n",
    "# Assuming 'df' is a DataFrame with your historical price data (e.g., 1-hour BTC/USDT prices)\n",
    "final_value = calculate_holding_value(btc_data)"
   ]
  },
  {
   "cell_type": "markdown",
   "metadata": {},
   "source": [
    "## Portfolio cumulative profit"
   ]
  },
  {
   "cell_type": "code",
   "execution_count": null,
   "metadata": {},
   "outputs": [],
   "source": [
    "# Create a new figure with a specific size\n",
    "plt.figure(figsize=(12, 6))\n",
    "\n",
    "# Import matplotlib.dates for date handling\n",
    "import matplotlib.dates as mdates\n",
    "\n",
    "# Plot the portfolio value over time\n",
    "plt.plot(btc_data['timestamp'], btc_data['portfolio_value'], label='Portfolio Value')\n",
    "\n",
    "# Set x-axis ticks to show only at one month intervals\n",
    "plt.gca().xaxis.set_major_locator(mdates.MonthLocator(interval=1))  # Set tick every 1 month\n",
    "plt.gca().xaxis.set_major_formatter(mdates.DateFormatter('%Y-%m-%d'))  # Format the date\n",
    "\n",
    "# Hide unnecessary minor ticks\n",
    "plt.gca().xaxis.set_minor_locator(mdates.MonthLocator())\n",
    "plt.gca().xaxis.set_tick_params(which='minor', bottom=False)\n",
    "\n",
    "# Remove unnecessary rotation for x-axis labels\n",
    "plt.gca().xaxis.set_tick_params(rotation=45)  # Rotate only the major ticks for readability\n",
    "\n",
    "# Set labels and title\n",
    "plt.xlabel('Date')\n",
    "plt.ylabel('Portfolio Value (USDT)')\n",
    "plt.title('Portfolio Value Over Time')\n",
    "\n",
    "# Add legend\n",
    "plt.legend()\n",
    "\n",
    "# Ensure y-axis starts from 0\n",
    "plt.ylim(bottom=0)\n",
    "\n",
    "# Adjust layout to prevent cutting off labels\n",
    "plt.tight_layout()\n",
    "\n",
    "# Show the plot\n",
    "plt.show()"
   ]
  },
  {
   "cell_type": "code",
   "execution_count": null,
   "metadata": {},
   "outputs": [],
   "source": []
  },
  {
   "cell_type": "markdown",
   "metadata": {},
   "source": []
  }
 ],
 "metadata": {
  "kernelspec": {
   "display_name": "Python 3",
   "language": "python",
   "name": "python3"
  },
  "language_info": {
   "codemirror_mode": {
    "name": "ipython",
    "version": 3
   },
   "file_extension": ".py",
   "mimetype": "text/x-python",
   "name": "python",
   "nbconvert_exporter": "python",
   "pygments_lexer": "ipython3",
   "version": "3.12.3"
  }
 },
 "nbformat": 4,
 "nbformat_minor": 2
}
